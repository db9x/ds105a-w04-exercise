{
 "cells": [
  {
   "cell_type": "markdown",
   "metadata": {},
   "source": [
    "# Terminal Notes"
   ]
  },
  {
   "cell_type": "markdown",
   "metadata": {},
   "source": [
    "## 1. Basic Commands"
   ]
  },
  {
   "cell_type": "markdown",
   "metadata": {},
   "source": [
    "**pwd** command to identify ‘where you are’\n",
    "\n",
    "**ls** command stands for “list.” It will show you a list of all the files and directories in the current directory \n",
    "\n",
    "**cd** command to move to a directory inside the one you are currently in \n",
    "\n",
    "**cd ~** command back to home \n",
    "\n",
    "**/** symbol signifies that you are referring to a folder inside the preceding directory \n",
    "\n",
    "**mv** command moves \n",
    "\n",
    "**..** will move you up one level in the directory tree to the parent directory \n",
    "\n",
    "**mkdir** command create new directory \n",
    "\n"
   ]
  },
  {
   "cell_type": "markdown",
   "metadata": {},
   "source": [
    "**head -n 5** (first 5 pages) or **tail** a file to see beginning and end \n",
    "\n",
    "**wc** command to count the number of lines (**-l**) or words (**-w**) in the file \n",
    "\n",
    "**grep** command to search for specific commands in the file \n",
    "\n",
    "**-c** flag tells grep to count the number of lines that match the pattern within quotes. You can also use the **-i** flag to make the search case-insensitive \n",
    "\n",
    "**uniq** that could help us count the number of unique commands you’ve run, but only counts adjacent lines "
   ]
  },
  {
   "cell_type": "markdown",
   "metadata": {},
   "source": [
    "**cut** command is used to extract sections from each line of input \n",
    "\n",
    "**-d** flag is used to specify the delimiter \n",
    "\n",
    "**-f** flag is used to specify the field we want to extract \n",
    "\n",
    "**sort** command at the end to sort them by the number of times you’ve run each command (sort –n) \n",
    "\n",
    "**curl** --> transfer data from a server \n",
    "\n",
    "**cat** --> catalog a file"
   ]
  }
 ],
 "metadata": {
  "kernelspec": {
   "display_name": "base",
   "language": "python",
   "name": "python3"
  },
  "language_info": {
   "codemirror_mode": {
    "name": "ipython",
    "version": 3
   },
   "file_extension": ".py",
   "mimetype": "text/x-python",
   "name": "python",
   "nbconvert_exporter": "python",
   "pygments_lexer": "ipython3",
   "version": "3.11.8"
  }
 },
 "nbformat": 4,
 "nbformat_minor": 2
}
