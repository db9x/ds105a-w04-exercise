{
 "cells": [
  {
   "cell_type": "markdown",
   "metadata": {},
   "source": [
    "# Python Notes"
   ]
  },
  {
   "cell_type": "markdown",
   "metadata": {},
   "source": [
    "## 1. Jupyter Notebook Notes"
   ]
  },
  {
   "cell_type": "markdown",
   "metadata": {},
   "source": [
    "### 1.1.1 Bullet Points:\n",
    "* use \"*\" or \"-\"\n",
    "* bullet 1\n",
    "* bullet 2"
   ]
  },
  {
   "cell_type": "markdown",
   "metadata": {},
   "source": [
    "### 1.1.2 Headings:\n",
    "* \"# --> Heading 1\"\n",
    "* \"## --> Heading 2\"\n",
    "* \"### --> Heading 3\"\n",
    "and so on..."
   ]
  },
  {
   "cell_type": "markdown",
   "metadata": {},
   "source": [
    "### 1.1.3 Number Lists: \n",
    "1. Numbered List using 1. 2. 3. 4.\n",
    "2. Number 2"
   ]
  },
  {
   "cell_type": "markdown",
   "metadata": {},
   "source": [
    "### 1.1.4 Formatting Text:\n",
    "BOLD:\n",
    "- \"**bold**\"\n",
    "\n",
    "ITALCS:\n",
    "- \"*italic*\"\n",
    "\n",
    "HIGHLIGHT:\n",
    "- `HIGHLIGHT`\n",
    "\n",
    "HORIZONTAL LINE:\n",
    "***\n",
    "Here is some important text!\n",
    "***"
   ]
  },
  {
   "cell_type": "markdown",
   "metadata": {},
   "source": [
    "### 1.1.5 Images:\n",
    "- ![alt text here](url-to-image-here)"
   ]
  },
  {
   "cell_type": "markdown",
   "metadata": {},
   "source": [
    "# 2. Python Basics!"
   ]
  },
  {
   "cell_type": "markdown",
   "metadata": {},
   "source": [
    "***\n",
    "## 2.1 Variables and Data Types\n",
    "Let's take:\n",
    "- x = 10             --> # Integer\n",
    "- y = 3.14           --> # Float\n",
    "- name = \"Alice\"     --> # String\n",
    "- is_student = True  --> # Boolean"
   ]
  },
  {
   "cell_type": "code",
   "execution_count": 63,
   "metadata": {},
   "outputs": [
    {
     "data": {
      "text/plain": [
       "3.0"
      ]
     },
     "execution_count": 63,
     "metadata": {},
     "output_type": "execute_result"
    }
   ],
   "source": [
    "#To convert an integer to a float, we can use the float() \n",
    "float(3)"
   ]
  },
  {
   "cell_type": "code",
   "execution_count": 64,
   "metadata": {},
   "outputs": [
    {
     "data": {
      "text/plain": [
       "4"
      ]
     },
     "execution_count": 64,
     "metadata": {},
     "output_type": "execute_result"
    }
   ],
   "source": [
    "\n",
    "#To convert a float to an integer, we can use the int() \n",
    "int(4.5)"
   ]
  },
  {
   "cell_type": "code",
   "execution_count": 65,
   "metadata": {},
   "outputs": [
    {
     "data": {
      "text/plain": [
       "4"
      ]
     },
     "execution_count": 65,
     "metadata": {},
     "output_type": "execute_result"
    }
   ],
   "source": [
    "# round off a number, we can instead use the round() \n",
    "round(4.5)"
   ]
  },
  {
   "cell_type": "code",
   "execution_count": 66,
   "metadata": {},
   "outputs": [
    {
     "name": "stdout",
     "output_type": "stream",
     "text": [
      "i am smart, timmy\n",
      "yes tom, but me too\n"
     ]
    }
   ],
   "source": [
    "#for strings, create text by enclosing a sequence of characters within quotation marks (\" \") or (' ')\n",
    "tom_says = (\"i am smart, timmy\")\n",
    "timmy_says = (\"yes tom, but me too\")\n",
    "print(tom_says)\n",
    "print(timmy_says)"
   ]
  },
  {
   "cell_type": "code",
   "execution_count": 67,
   "metadata": {},
   "outputs": [
    {
     "name": "stdout",
     "output_type": "stream",
     "text": [
      "i am smart, timmy. yes tom, but me too, plus you owe me 10 pounds!\n"
     ]
    }
   ],
   "source": [
    "#concatenation for strings\n",
    "collective = tom_says + \". \" + timmy_says + \", \" \"plus you owe me 10 pounds!\"\n",
    "print(collective)"
   ]
  },
  {
   "cell_type": "code",
   "execution_count": 68,
   "metadata": {},
   "outputs": [
    {
     "data": {
      "text/plain": [
       "'i am smart, bob. yes tom, but me too, plus you owe me 10 pounds!'"
      ]
     },
     "execution_count": 68,
     "metadata": {},
     "output_type": "execute_result"
    }
   ],
   "source": [
    "#replace\n",
    "collective.replace(\"timmy\", \"bob\")"
   ]
  },
  {
   "cell_type": "markdown",
   "metadata": {},
   "source": [
    "***\n",
    "## 2.2 Basic Data Structures\n",
    "### 2.2.1 Lists:\n",
    "fruits = ['apple', 'banana', 'cherry']\n",
    "\n",
    "Below are some helpful codes on lists."
   ]
  },
  {
   "cell_type": "code",
   "execution_count": 69,
   "metadata": {},
   "outputs": [
    {
     "name": "stdout",
     "output_type": "stream",
     "text": [
      "['hello', 'i', 'am', 'tom']\n"
     ]
    }
   ],
   "source": [
    "#splitting:\n",
    "content = ['hello i am tom']\n",
    "lines = content[0].split()\n",
    "print(lines)"
   ]
  },
  {
   "cell_type": "code",
   "execution_count": 70,
   "metadata": {},
   "outputs": [
    {
     "data": {
      "text/plain": [
       "4"
      ]
     },
     "execution_count": 70,
     "metadata": {},
     "output_type": "execute_result"
    }
   ],
   "source": [
    "#how many elements in list?\n",
    "len(lines)"
   ]
  },
  {
   "cell_type": "code",
   "execution_count": 71,
   "metadata": {},
   "outputs": [
    {
     "data": {
      "text/plain": [
       "{1, 2, 3, 4, 5}"
      ]
     },
     "execution_count": 71,
     "metadata": {},
     "output_type": "execute_result"
    }
   ],
   "source": [
    "#remove duplicates\n",
    "numbers = [1, 2, 3, 4, 5, 5, 5]\n",
    "set(numbers)"
   ]
  },
  {
   "cell_type": "code",
   "execution_count": 72,
   "metadata": {},
   "outputs": [
    {
     "name": "stdout",
     "output_type": "stream",
     "text": [
      "[1, 2, 3, 4, 5, 5, 5, [6], 7]\n"
     ]
    }
   ],
   "source": [
    "#adding items\n",
    "numbers.append([6])\n",
    "numbers.extend([7])\n",
    "\n",
    "print(numbers)"
   ]
  },
  {
   "cell_type": "code",
   "execution_count": 73,
   "metadata": {},
   "outputs": [
    {
     "name": "stdout",
     "output_type": "stream",
     "text": [
      "[1, 2, 3, 4, 5, 5, [6]]\n"
     ]
    }
   ],
   "source": [
    "#removing items\n",
    "numbers.pop(-1) #--> remove the last item \n",
    "\n",
    "numbers.remove(5)\n",
    "\n",
    "print(numbers)"
   ]
  },
  {
   "cell_type": "code",
   "execution_count": 74,
   "metadata": {},
   "outputs": [
    {
     "data": {
      "text/plain": [
       "[[6], 5, 5, 4, 3, 2, 1]"
      ]
     },
     "execution_count": 74,
     "metadata": {},
     "output_type": "execute_result"
    }
   ],
   "source": [
    "#slicing: \n",
    "\n",
    "#[::-1] --> flipping from back to front \n",
    "\n",
    "#[:5] --> cutting at the 5th \n",
    "\n",
    "#[::2] --> skips every other character \n",
    "\n",
    "#[1:-1] --> skips first and last \n",
    "\n",
    "numbers[::-1]"
   ]
  },
  {
   "cell_type": "code",
   "execution_count": 75,
   "metadata": {},
   "outputs": [
    {
     "name": "stdout",
     "output_type": "stream",
     "text": [
      "[1, 2, 3, 4]\n"
     ]
    }
   ],
   "source": [
    "first_4=numbers[:4] \n",
    "print(first_4)"
   ]
  },
  {
   "cell_type": "markdown",
   "metadata": {},
   "source": [
    "### 2.2.2 Dictionaries:\n",
    "Note: Json files ARE python dictionaries.\n",
    "Below are some useful features."
   ]
  },
  {
   "cell_type": "code",
   "execution_count": 76,
   "metadata": {},
   "outputs": [
    {
     "data": {
      "text/plain": [
       "'Alice'"
      ]
     },
     "execution_count": 76,
     "metadata": {},
     "output_type": "execute_result"
    }
   ],
   "source": [
    "my_dict = {\"name\": \"Alice\", \"age\": 25, \"city\": \"London\"} \n",
    "my_dict[\"name\"] #(searching in the dictionary for name) "
   ]
  },
  {
   "cell_type": "code",
   "execution_count": 77,
   "metadata": {},
   "outputs": [
    {
     "data": {
      "text/plain": [
       "dict_keys(['name', 'age', 'city'])"
      ]
     },
     "execution_count": 77,
     "metadata": {},
     "output_type": "execute_result"
    }
   ],
   "source": [
    "my_dict.keys()"
   ]
  },
  {
   "cell_type": "code",
   "execution_count": 78,
   "metadata": {},
   "outputs": [
    {
     "data": {
      "text/plain": [
       "dict_values(['Alice', 25, 'London'])"
      ]
     },
     "execution_count": 78,
     "metadata": {},
     "output_type": "execute_result"
    }
   ],
   "source": [
    "my_dict.values()"
   ]
  },
  {
   "cell_type": "code",
   "execution_count": 79,
   "metadata": {},
   "outputs": [
    {
     "data": {
      "text/plain": [
       "dict_items([('name', 'Alice'), ('age', 25), ('city', 'London')])"
      ]
     },
     "execution_count": 79,
     "metadata": {},
     "output_type": "execute_result"
    }
   ],
   "source": [
    "my_dict.items()"
   ]
  },
  {
   "cell_type": "code",
   "execution_count": 80,
   "metadata": {},
   "outputs": [
    {
     "name": "stdout",
     "output_type": "stream",
     "text": [
      "name: Alice\n",
      "age: 25\n",
      "city: London\n"
     ]
    }
   ],
   "source": [
    "for key in my_dict:\n",
    "    print(key + \":\", my_dict[key])"
   ]
  },
  {
   "cell_type": "markdown",
   "metadata": {},
   "source": [
    "## 2.3 Control Structures\n",
    "***\n",
    "### 2.3.3 Conditional Statements\n"
   ]
  },
  {
   "cell_type": "code",
   "execution_count": 81,
   "metadata": {},
   "outputs": [
    {
     "name": "stdout",
     "output_type": "stream",
     "text": [
      "x is 5 or less\n"
     ]
    }
   ],
   "source": [
    "x=1 \n",
    "if x > 5:\n",
    "    print(\"x is greater than 5\")\n",
    "else:\n",
    "    print(\"x is 5 or less\")"
   ]
  },
  {
   "cell_type": "code",
   "execution_count": 82,
   "metadata": {},
   "outputs": [
    {
     "name": "stdout",
     "output_type": "stream",
     "text": [
      "x is greater than 5\n"
     ]
    }
   ],
   "source": [
    "x=6 \n",
    "if x > 5:\n",
    "    print(\"x is greater than 5\")\n",
    "else:\n",
    "    print(\"x is 5 or less\")"
   ]
  },
  {
   "cell_type": "code",
   "execution_count": 83,
   "metadata": {},
   "outputs": [
    {
     "name": "stdout",
     "output_type": "stream",
     "text": [
      "x is equal to 5\n"
     ]
    }
   ],
   "source": [
    "x=5\n",
    "if x > 5:\n",
    "    print(\"x is greater than 5\")\n",
    "elif x == 5:\n",
    "    print(\"x is equal to 5\")\n",
    "else:\n",
    "    print(\"x is less than 5\")"
   ]
  },
  {
   "cell_type": "markdown",
   "metadata": {},
   "source": [
    "***\n",
    "### 2.3.2 For Loops\n",
    "for fruit in fruits:\n",
    "    print(fruit)"
   ]
  },
  {
   "cell_type": "code",
   "execution_count": 84,
   "metadata": {},
   "outputs": [
    {
     "name": "stdout",
     "output_type": "stream",
     "text": [
      "apple\n",
      "banana\n",
      "cherry\n"
     ]
    }
   ],
   "source": [
    "fruits = ['apple', 'banana', 'cherry']\n",
    "for fruit in fruits:\n",
    "    print(fruit)"
   ]
  },
  {
   "cell_type": "code",
   "execution_count": 85,
   "metadata": {},
   "outputs": [
    {
     "name": "stdout",
     "output_type": "stream",
     "text": [
      "0\n",
      "1\n",
      "2\n",
      "3\n",
      "4\n"
     ]
    }
   ],
   "source": [
    "for i in range(5):\n",
    "    print(i)  # Prints the numbers 0 to 4"
   ]
  },
  {
   "cell_type": "code",
   "execution_count": 86,
   "metadata": {},
   "outputs": [
    {
     "name": "stdout",
     "output_type": "stream",
     "text": [
      "Alice scored 85\n",
      "Bob scored 90\n",
      "Charlie scored 95\n"
     ]
    }
   ],
   "source": [
    "names = ['Alice', 'Bob', 'Charlie']\n",
    "scores = [85, 90, 95]\n",
    "\n",
    "for name, score in zip(names, scores): #searched \"zip\" online\n",
    "    print(f\"{name} scored {score}\")"
   ]
  },
  {
   "cell_type": "markdown",
   "metadata": {},
   "source": [
    "***\n",
    "### 2.3.3 While Loop\n",
    "count = 0\n",
    "while count < 5:\n",
    "    print(count)\n",
    "    count += 1"
   ]
  },
  {
   "cell_type": "code",
   "execution_count": 87,
   "metadata": {},
   "outputs": [
    {
     "name": "stdout",
     "output_type": "stream",
     "text": [
      "0\n",
      "1\n",
      "2\n",
      "3\n",
      "4\n"
     ]
    }
   ],
   "source": [
    "count = 0\n",
    "while count < 5:\n",
    "    print(count)\n",
    "    count += 1  # Increment count"
   ]
  },
  {
   "cell_type": "markdown",
   "metadata": {},
   "source": [
    "***\n",
    "### 2.3.4 Functions\n",
    "Below are some examples as functions is my weakest area:)"
   ]
  },
  {
   "cell_type": "code",
   "execution_count": 88,
   "metadata": {},
   "outputs": [],
   "source": [
    "def function_name(parameters):\n",
    "    # block of code\n",
    "    return result #ALWAYS REMEMBER TO RETURN!"
   ]
  },
  {
   "cell_type": "code",
   "execution_count": 89,
   "metadata": {},
   "outputs": [
    {
     "name": "stdout",
     "output_type": "stream",
     "text": [
      "Welcome, Alice!\n"
     ]
    }
   ],
   "source": [
    "def greet(name, msg=\"Welcome\"):\n",
    "    return f\"{msg}, {name}!\"\n",
    "\n",
    "print(greet(\"Alice\"))"
   ]
  },
  {
   "cell_type": "code",
   "execution_count": 92,
   "metadata": {},
   "outputs": [
    {
     "name": "stdout",
     "output_type": "stream",
     "text": [
      "Name: Bob, Age: 19\n"
     ]
    }
   ],
   "source": [
    "def collect_user_data():\n",
    "    name = input(\"Enter your name: \")\n",
    "    age = int(input(\"Enter your age: \"))\n",
    "    return name, age\n",
    "\n",
    "user_name, user_age = collect_user_data()\n",
    "print(f\"Name: {user_name}, Age: {user_age}\")"
   ]
  },
  {
   "cell_type": "code",
   "execution_count": 1,
   "metadata": {},
   "outputs": [
    {
     "name": "stdout",
     "output_type": "stream",
     "text": [
      "One cherry pie costs £12.0\n",
      "One slice of cherry pie costs £2.0\n"
     ]
    }
   ],
   "source": [
    "# add the name for the inputs inside the parentheses and complete the function \n",
    "\n",
    "def pie_prices(name, num_slice, price):\n",
    "    num_slice = int(num_slice)\n",
    "    price = float(price)\n",
    "    print(\"One \" + name + \" pie costs £\" + str(price))\n",
    "    print(\"One slice of \" + name + \" pie costs £\" + str(price/num_slice))\n",
    "\n",
    "pie_prices(\"cherry\", \"6\", \"12\")"
   ]
  },
  {
   "cell_type": "code",
   "execution_count": 2,
   "metadata": {},
   "outputs": [
    {
     "name": "stdout",
     "output_type": "stream",
     "text": [
      "100\n"
     ]
    }
   ],
   "source": [
    "a_list = [1, 2, 100, 4, 5]\n",
    "\n",
    "def find_maximum(a_list):\n",
    "    max_num = a_list[0]  # Initialize max_num with the first element\n",
    "    for element in a_list[1:]:  # Iterate through the rest of the list\n",
    "        if element > max_num:\n",
    "            max_num = element  # Update max_num if current element is greater\n",
    "    return max_num  # Return the maximum value\n",
    "\n",
    "max_num = find_maximum(a_list)\n",
    "\n",
    "print(max_num)"
   ]
  },
  {
   "cell_type": "code",
   "execution_count": 4,
   "metadata": {},
   "outputs": [
    {
     "name": "stdout",
     "output_type": "stream",
     "text": [
      "All App Ratings Stats:\n",
      "Mean Rating: 4.30, Min Rating: 3.5, Max Rating: 4.5\n"
     ]
    }
   ],
   "source": [
    "app_data = [['Facebook', 0.0, 'USD', 2974676, 3.5, 'social networking'],\n",
    "            ['Instagram', 0.0, 'USD', 2161558, 4.5, 'photo & video'],\n",
    "            ['Clash of Clans', 0.0, 'USD', 2130805, 4.5, 'game'],\n",
    "            ['Temple Run', 0.0, 'USD', 1724546, 4.5, 'game'],\n",
    "            ['Pandora - Music & Radio', 0.0, 'USD', 1126879, 4.0, 'music'],\n",
    "            ['Deezer', 0.0, 'USD', 8201223, 4.5, 'music'],\n",
    "            ['Spotify', 0.0, 'USD', 5261451, 4.4, 'music'],\n",
    "            ['Angry Birds Friends', 0.0, 'USD', 2232895, 4.3, 'game'],\n",
    "            ['Candy Crush Soda Saga', 0.0, 'USD', 724546, 4.5, 'game'],\n",
    "            ['Uber', 0.0, 'USD', 9265899, 4.3, 'transit']]\n",
    "\n",
    "\n",
    "def extract_ratings(app_data):\n",
    "    ratings = []\n",
    "    for app in app_data:\n",
    "        ratings.append(app[4])  # Append the rating to the list\n",
    "    return ratings\n",
    "\n",
    "def calculate_statistics(ratings):\n",
    "    mean_rating = sum(ratings) / len(ratings)\n",
    "    min_rating = min(ratings)\n",
    "    max_rating = max(ratings)\n",
    "    return mean_rating, min_rating, max_rating\n",
    "\n",
    "all_ratings = extract_ratings(app_data)\n",
    "all_stats = calculate_statistics(all_ratings)\n",
    "\n",
    "# Print the results\n",
    "print(\"All App Ratings Stats:\")\n",
    "print(f\"Mean Rating: {all_stats[0]:.2f}, Min Rating: {all_stats[1]}, Max Rating: {all_stats[2]}\")"
   ]
  },
  {
   "cell_type": "markdown",
   "metadata": {},
   "source": [
    "# 3. File Handling\n",
    "***\n",
    "## 3.1 Writing to a file\n",
    "with open('example.txt', 'w') as f:\n",
    "    f.write(\"Hello, World!\")\n"
   ]
  },
  {
   "cell_type": "code",
   "execution_count": null,
   "metadata": {},
   "outputs": [],
   "source": [
    "with open('XXX.txt', 'w') as f: #opens a file named example.txt in write mode\n",
    "    f.write(\"Hello, World!\")"
   ]
  },
  {
   "cell_type": "markdown",
   "metadata": {},
   "source": [
    "***\n",
    "## 3.2 Reading from a file\n",
    "with open('example.txt', 'r') as f:\n",
    "    content = f.read()\n",
    "    print(content)"
   ]
  },
  {
   "cell_type": "code",
   "execution_count": null,
   "metadata": {},
   "outputs": [
    {
     "name": "stdout",
     "output_type": "stream",
     "text": [
      "Hello, World!\n"
     ]
    }
   ],
   "source": [
    "with open('XXX.txt', 'r') as f:\n",
    "    content = f.read()\n",
    "    print(content)"
   ]
  },
  {
   "cell_type": "markdown",
   "metadata": {},
   "source": [
    "## 3.3 Importing Libraries\n",
    "import math\n",
    "\n",
    "print(math.sqrt(16))  # Using the math library"
   ]
  },
  {
   "cell_type": "code",
   "execution_count": null,
   "metadata": {},
   "outputs": [],
   "source": [
    "# Let us import the important ones we usually use:\n",
    "import os\n",
    "import json\n",
    "import requests\n",
    "import pandas as pd\n",
    "import math   #now we can use (+, -, *, /, **)\n",
    "from pprint import pprint "
   ]
  },
  {
   "cell_type": "code",
   "execution_count": null,
   "metadata": {},
   "outputs": [
    {
     "name": "stdout",
     "output_type": "stream",
     "text": [
      "6\n"
     ]
    }
   ],
   "source": [
    "#math tips (can do with all other symbols)\n",
    "x = 4\n",
    "x += 2\n",
    "print(x)"
   ]
  },
  {
   "cell_type": "markdown",
   "metadata": {},
   "source": [
    "## 3.4 .json files"
   ]
  },
  {
   "cell_type": "markdown",
   "metadata": {},
   "source": [
    "- json.dumps(): Converts a Python object to a JSON string\n",
    "- json.dump(): Writes a Python object directly to a JSON file"
   ]
  },
  {
   "cell_type": "markdown",
   "metadata": {},
   "source": [
    "# 4. Pandas"
   ]
  },
  {
   "cell_type": "markdown",
   "metadata": {},
   "source": [
    "Convert the dictionary into a pandas DataFrame.  --> **df = pd.DataFrame(data)**\n",
    "\n",
    "Use **df.head()** to see the first few rows of the DataFrame. \n",
    "\n",
    "Use **df.tail()** to see the last few rows. \n",
    "\n",
    "**.plot()** function that helps us to get quick insights from a table. \n",
    "\n",
    "**.min()** and **.max()** functions to get the minimum and maximum values "
   ]
  },
  {
   "cell_type": "markdown",
   "metadata": {},
   "source": []
  }
 ],
 "metadata": {
  "kernelspec": {
   "display_name": "base",
   "language": "python",
   "name": "python3"
  },
  "language_info": {
   "codemirror_mode": {
    "name": "ipython",
    "version": 3
   },
   "file_extension": ".py",
   "mimetype": "text/x-python",
   "name": "python",
   "nbconvert_exporter": "python",
   "pygments_lexer": "ipython3",
   "version": "3.11.8"
  }
 },
 "nbformat": 4,
 "nbformat_minor": 2
}
